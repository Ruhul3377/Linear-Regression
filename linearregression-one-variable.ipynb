{
 "cells": [
  {
   "cell_type": "markdown",
   "id": "de675b6e",
   "metadata": {},
   "source": [
    "## Plotting the Data"
   ]
  },
  {
   "cell_type": "code",
   "execution_count": 1,
   "id": "99ca4509",
   "metadata": {
    "execution": {
     "iopub.execute_input": "2022-12-13T08:07:36.402582Z",
     "iopub.status.busy": "2022-12-13T08:07:36.402215Z",
     "iopub.status.idle": "2022-12-13T08:07:36.456171Z",
     "shell.execute_reply": "2022-12-13T08:07:36.455193Z",
     "shell.execute_reply.started": "2022-12-13T08:07:36.402499Z"
    }
   },
   "outputs": [],
   "source": [
    "import numpy as np\n",
    "import pandas as pd\n",
    "import matplotlib.pyplot as plt"
   ]
  },
  {
   "cell_type": "markdown",
   "id": "bac14679",
   "metadata": {},
   "source": [
    "# read data"
   ]
  },
  {
   "cell_type": "code",
   "execution_count": 2,
   "id": "a26cb800",
   "metadata": {
    "execution": {
     "iopub.execute_input": "2022-12-13T08:07:36.458469Z",
     "iopub.status.busy": "2022-12-13T08:07:36.458030Z",
     "iopub.status.idle": "2022-12-13T08:07:36.498849Z",
     "shell.execute_reply": "2022-12-13T08:07:36.497884Z",
     "shell.execute_reply.started": "2022-12-13T08:07:36.458433Z"
    }
   },
   "outputs": [
    {
     "data": {
      "text/html": [
       "<div>\n",
       "<style scoped>\n",
       "    .dataframe tbody tr th:only-of-type {\n",
       "        vertical-align: middle;\n",
       "    }\n",
       "\n",
       "    .dataframe tbody tr th {\n",
       "        vertical-align: top;\n",
       "    }\n",
       "\n",
       "    .dataframe thead th {\n",
       "        text-align: right;\n",
       "    }\n",
       "</style>\n",
       "<table border=\"1\" class=\"dataframe\">\n",
       "  <thead>\n",
       "    <tr style=\"text-align: right;\">\n",
       "      <th></th>\n",
       "      <th>Population</th>\n",
       "      <th>Profit</th>\n",
       "    </tr>\n",
       "  </thead>\n",
       "  <tbody>\n",
       "    <tr>\n",
       "      <th>0</th>\n",
       "      <td>6.1101</td>\n",
       "      <td>17.5920</td>\n",
       "    </tr>\n",
       "    <tr>\n",
       "      <th>1</th>\n",
       "      <td>5.5277</td>\n",
       "      <td>9.1302</td>\n",
       "    </tr>\n",
       "    <tr>\n",
       "      <th>2</th>\n",
       "      <td>8.5186</td>\n",
       "      <td>13.6620</td>\n",
       "    </tr>\n",
       "    <tr>\n",
       "      <th>3</th>\n",
       "      <td>7.0032</td>\n",
       "      <td>11.8540</td>\n",
       "    </tr>\n",
       "    <tr>\n",
       "      <th>4</th>\n",
       "      <td>5.8598</td>\n",
       "      <td>6.8233</td>\n",
       "    </tr>\n",
       "  </tbody>\n",
       "</table>\n",
       "</div>"
      ],
      "text/plain": [
       "   Population   Profit\n",
       "0      6.1101  17.5920\n",
       "1      5.5277   9.1302\n",
       "2      8.5186  13.6620\n",
       "3      7.0032  11.8540\n",
       "4      5.8598   6.8233"
      ]
     },
     "execution_count": 2,
     "metadata": {},
     "output_type": "execute_result"
    }
   ],
   "source": [
    "# path  = 'Dataset/Dhaka Rent.csv'\n",
    "# data = pd.read_csv(path, header=None, names=['Population', 'Profit'])\n",
    "# data.head()\n",
    "\n",
    "# data = pd.read_csv('../input/population-profit/Population_Profit.txt', names=['Population', 'Profit'])\n",
    "\n",
    "data = pd.read_csv('Datasets/Population_Profit.txt',names=['Population', 'Profit'])\n",
    "data.head()"
   ]
  },
  {
   "cell_type": "markdown",
   "id": "e6a62e74",
   "metadata": {},
   "source": [
    "# visualizing the data"
   ]
  },
  {
   "cell_type": "code",
   "execution_count": 3,
   "id": "24bbfe0d",
   "metadata": {
    "execution": {
     "iopub.execute_input": "2022-12-13T08:07:36.501079Z",
     "iopub.status.busy": "2022-12-13T08:07:36.500427Z",
     "iopub.status.idle": "2022-12-13T08:07:36.764450Z",
     "shell.execute_reply": "2022-12-13T08:07:36.763402Z",
     "shell.execute_reply.started": "2022-12-13T08:07:36.501041Z"
    }
   },
   "outputs": [
    {
     "data": {
      "image/png": "[encoded data removed]",
      "text/plain": [
       "<Figure size 640x480 with 1 Axes>"
      ]
     },
     "metadata": {},
     "output_type": "display_data"
    }
   ],
   "source": [
    "# data.plot(kind='scatter', x='Population', y='Profit', figsize=(12, 8))\n",
    "# plt.show\n",
    "\n",
    "plt.scatter(data.Population,data.Profit)\n",
    "plt.show()"
   ]
  },
  {
   "cell_type": "markdown",
   "id": "f187c285",
   "metadata": {},
   "source": [
    "## Cost Function\n",
    "\n"
   ]
  },
  {
   "cell_type": "code",
   "execution_count": 4,
   "id": "8e9a86f0",
   "metadata": {
    "execution": {
     "iopub.execute_input": "2022-12-13T08:07:36.768940Z",
     "iopub.status.busy": "2022-12-13T08:07:36.766975Z",
     "iopub.status.idle": "2022-12-13T08:07:36.781207Z",
     "shell.execute_reply": "2022-12-13T08:07:36.779849Z",
     "shell.execute_reply.started": "2022-12-13T08:07:36.768899Z"
    }
   },
   "outputs": [
    {
     "data": {
      "text/html": [
       "<div>\n",
       "<style scoped>\n",
       "    .dataframe tbody tr th:only-of-type {\n",
       "        vertical-align: middle;\n",
       "    }\n",
       "\n",
       "    .dataframe tbody tr th {\n",
       "        vertical-align: top;\n",
       "    }\n",
       "\n",
       "    .dataframe thead th {\n",
       "        text-align: right;\n",
       "    }\n",
       "</style>\n",
       "<table border=\"1\" class=\"dataframe\">\n",
       "  <thead>\n",
       "    <tr style=\"text-align: right;\">\n",
       "      <th></th>\n",
       "      <th>Ones</th>\n",
       "      <th>Population</th>\n",
       "      <th>Profit</th>\n",
       "    </tr>\n",
       "  </thead>\n",
       "  <tbody>\n",
       "    <tr>\n",
       "      <th>0</th>\n",
       "      <td>1</td>\n",
       "      <td>6.1101</td>\n",
       "      <td>17.5920</td>\n",
       "    </tr>\n",
       "    <tr>\n",
       "      <th>1</th>\n",
       "      <td>1</td>\n",
       "      <td>5.5277</td>\n",
       "      <td>9.1302</td>\n",
       "    </tr>\n",
       "    <tr>\n",
       "      <th>2</th>\n",
       "      <td>1</td>\n",
       "      <td>8.5186</td>\n",
       "      <td>13.6620</td>\n",
       "    </tr>\n",
       "    <tr>\n",
       "      <th>3</th>\n",
       "      <td>1</td>\n",
       "      <td>7.0032</td>\n",
       "      <td>11.8540</td>\n",
       "    </tr>\n",
       "    <tr>\n",
       "      <th>4</th>\n",
       "      <td>1</td>\n",
       "      <td>5.8598</td>\n",
       "      <td>6.8233</td>\n",
       "    </tr>\n",
       "  </tbody>\n",
       "</table>\n",
       "</div>"
      ],
      "text/plain": [
       "   Ones  Population   Profit\n",
       "0     1      6.1101  17.5920\n",
       "1     1      5.5277   9.1302\n",
       "2     1      8.5186  13.6620\n",
       "3     1      7.0032  11.8540\n",
       "4     1      5.8598   6.8233"
      ]
     },
     "execution_count": 4,
     "metadata": {},
     "output_type": "execute_result"
    }
   ],
   "source": [
    "# insert a column\n",
    "data.insert(0,'Ones',1)\n",
    "data.head()"
   ]
  },
  {
   "cell_type": "code",
   "execution_count": 5,
   "id": "f5d1a333",
   "metadata": {
    "execution": {
     "iopub.execute_input": "2022-12-13T08:07:36.783742Z",
     "iopub.status.busy": "2022-12-13T08:07:36.783132Z",
     "iopub.status.idle": "2022-12-13T08:07:36.794161Z",
     "shell.execute_reply": "2022-12-13T08:07:36.793193Z",
     "shell.execute_reply.started": "2022-12-13T08:07:36.783696Z"
    }
   },
   "outputs": [],
   "source": [
    "# split data to X and Y\n",
    "cols = data.shape[1]\n",
    "X = data.iloc[:, 0:cols-1]\n",
    "Y = data.iloc[:, cols-1:cols]"
   ]
  },
  {
   "cell_type": "code",
   "execution_count": 6,
   "id": "02de50ec",
   "metadata": {
    "execution": {
     "iopub.execute_input": "2022-12-13T08:07:36.795980Z",
     "iopub.status.busy": "2022-12-13T08:07:36.795545Z",
     "iopub.status.idle": "2022-12-13T08:07:36.811187Z",
     "shell.execute_reply": "2022-12-13T08:07:36.809834Z",
     "shell.execute_reply.started": "2022-12-13T08:07:36.795945Z"
    }
   },
   "outputs": [
    {
     "data": {
      "text/html": [
       "<div>\n",
       "<style scoped>\n",
       "    .dataframe tbody tr th:only-of-type {\n",
       "        vertical-align: middle;\n",
       "    }\n",
       "\n",
       "    .dataframe tbody tr th {\n",
       "        vertical-align: top;\n",
       "    }\n",
       "\n",
       "    .dataframe thead th {\n",
       "        text-align: right;\n",
       "    }\n",
       "</style>\n",
       "<table border=\"1\" class=\"dataframe\">\n",
       "  <thead>\n",
       "    <tr style=\"text-align: right;\">\n",
       "      <th></th>\n",
       "      <th>Ones</th>\n",
       "      <th>Population</th>\n",
       "    </tr>\n",
       "  </thead>\n",
       "  <tbody>\n",
       "    <tr>\n",
       "      <th>0</th>\n",
       "      <td>1</td>\n",
       "      <td>6.1101</td>\n",
       "    </tr>\n",
       "    <tr>\n",
       "      <th>1</th>\n",
       "      <td>1</td>\n",
       "      <td>5.5277</td>\n",
       "    </tr>\n",
       "    <tr>\n",
       "      <th>2</th>\n",
       "      <td>1</td>\n",
       "      <td>8.5186</td>\n",
       "    </tr>\n",
       "    <tr>\n",
       "      <th>3</th>\n",
       "      <td>1</td>\n",
       "      <td>7.0032</td>\n",
       "    </tr>\n",
       "    <tr>\n",
       "      <th>4</th>\n",
       "      <td>1</td>\n",
       "      <td>5.8598</td>\n",
       "    </tr>\n",
       "  </tbody>\n",
       "</table>\n",
       "</div>"
      ],
      "text/plain": [
       "   Ones  Population\n",
       "0     1      6.1101\n",
       "1     1      5.5277\n",
       "2     1      8.5186\n",
       "3     1      7.0032\n",
       "4     1      5.8598"
      ]
     },
     "execution_count": 6,
     "metadata": {},
     "output_type": "execute_result"
    }
   ],
   "source": [
    "X.head()"
   ]
  },
  {
   "cell_type": "code",
   "execution_count": 7,
   "id": "d19e8948",
   "metadata": {
    "execution": {
     "iopub.execute_input": "2022-12-13T08:07:36.813731Z",
     "iopub.status.busy": "2022-12-13T08:07:36.813263Z",
     "iopub.status.idle": "2022-12-13T08:07:36.825894Z",
     "shell.execute_reply": "2022-12-13T08:07:36.824686Z",
     "shell.execute_reply.started": "2022-12-13T08:07:36.813695Z"
    }
   },
   "outputs": [
    {
     "data": {
      "text/html": [
       "<div>\n",
       "<style scoped>\n",
       "    .dataframe tbody tr th:only-of-type {\n",
       "        vertical-align: middle;\n",
       "    }\n",
       "\n",
       "    .dataframe tbody tr th {\n",
       "        vertical-align: top;\n",
       "    }\n",
       "\n",
       "    .dataframe thead th {\n",
       "        text-align: right;\n",
       "    }\n",
       "</style>\n",
       "<table border=\"1\" class=\"dataframe\">\n",
       "  <thead>\n",
       "    <tr style=\"text-align: right;\">\n",
       "      <th></th>\n",
       "      <th>Profit</th>\n",
       "    </tr>\n",
       "  </thead>\n",
       "  <tbody>\n",
       "    <tr>\n",
       "      <th>0</th>\n",
       "      <td>17.5920</td>\n",
       "    </tr>\n",
       "    <tr>\n",
       "      <th>1</th>\n",
       "      <td>9.1302</td>\n",
       "    </tr>\n",
       "    <tr>\n",
       "      <th>2</th>\n",
       "      <td>13.6620</td>\n",
       "    </tr>\n",
       "    <tr>\n",
       "      <th>3</th>\n",
       "      <td>11.8540</td>\n",
       "    </tr>\n",
       "    <tr>\n",
       "      <th>4</th>\n",
       "      <td>6.8233</td>\n",
       "    </tr>\n",
       "  </tbody>\n",
       "</table>\n",
       "</div>"
      ],
      "text/plain": [
       "    Profit\n",
       "0  17.5920\n",
       "1   9.1302\n",
       "2  13.6620\n",
       "3  11.8540\n",
       "4   6.8233"
      ]
     },
     "execution_count": 7,
     "metadata": {},
     "output_type": "execute_result"
    }
   ],
   "source": [
    "Y.head()"
   ]
  },
  {
   "cell_type": "code",
   "execution_count": 8,
   "id": "24c2d34a",
   "metadata": {
    "execution": {
     "iopub.execute_input": "2022-12-13T08:07:36.828542Z",
     "iopub.status.busy": "2022-12-13T08:07:36.828154Z",
     "iopub.status.idle": "2022-12-13T08:07:36.837000Z",
     "shell.execute_reply": "2022-12-13T08:07:36.835990Z",
     "shell.execute_reply.started": "2022-12-13T08:07:36.828505Z"
    }
   },
   "outputs": [
    {
     "data": {
      "text/plain": [
       "((98, 2), (98, 1), (1, 2))"
      ]
     },
     "execution_count": 8,
     "metadata": {},
     "output_type": "execute_result"
    }
   ],
   "source": [
    "# convert X and Y into matrix\n",
    "X = np.matrix(X.values)\n",
    "Y = np.matrix(Y.values)\n",
    "\n",
    "theta = np.matrix(np.array([0,0]))\n",
    "\n",
    "X.shape, Y.shape, theta.shape\n"
   ]
  },
  {
   "cell_type": "markdown",
   "id": "ab1965fb",
   "metadata": {},
   "source": [
    "formula of cost function\n",
    "![](img/cost.png)"
   ]
  },
  {
   "cell_type": "code",
   "execution_count": 9,
   "id": "6578c025",
   "metadata": {
    "execution": {
     "iopub.execute_input": "2022-12-13T08:07:36.841657Z",
     "iopub.status.busy": "2022-12-13T08:07:36.840829Z",
     "iopub.status.idle": "2022-12-13T08:07:36.847592Z",
     "shell.execute_reply": "2022-12-13T08:07:36.846657Z",
     "shell.execute_reply.started": "2022-12-13T08:07:36.841623Z"
    }
   },
   "outputs": [],
   "source": [
    "# cost function \n",
    "def computeCost(X, Y, theta):\n",
    "    inner = np.power((X * theta.T)-Y, 2)\n",
    "    return np.sum(inner) / (2 * len(X))"
   ]
  },
  {
   "cell_type": "code",
   "execution_count": 10,
   "id": "a9a8f9cb",
   "metadata": {
    "execution": {
     "iopub.execute_input": "2022-12-13T08:07:36.850910Z",
     "iopub.status.busy": "2022-12-13T08:07:36.850550Z",
     "iopub.status.idle": "2022-12-13T08:07:36.862785Z",
     "shell.execute_reply": "2022-12-13T08:07:36.861724Z",
     "shell.execute_reply.started": "2022-12-13T08:07:36.850884Z"
    }
   },
   "outputs": [
    {
     "data": {
      "text/plain": [
       "31.81715114528776"
      ]
     },
     "execution_count": 10,
     "metadata": {},
     "output_type": "execute_result"
    }
   ],
   "source": [
    "computeCost(X, Y, theta)"
   ]
  },
  {
   "cell_type": "markdown",
   "id": "78a49d04",
   "metadata": {},
   "source": [
    "## Gradient Descent\n",
    "![](img/gradient.png)"
   ]
  },
  {
   "cell_type": "code",
   "execution_count": 11,
   "id": "5d4bbb3e",
   "metadata": {
    "execution": {
     "iopub.execute_input": "2022-12-13T08:07:36.865270Z",
     "iopub.status.busy": "2022-12-13T08:07:36.864519Z",
     "iopub.status.idle": "2022-12-13T08:07:36.873716Z",
     "shell.execute_reply": "2022-12-13T08:07:36.872887Z",
     "shell.execute_reply.started": "2022-12-13T08:07:36.865226Z"
    }
   },
   "outputs": [],
   "source": [
    "def gradientDescent(X, Y, theta, alpha, iters):\n",
    "    temp = np.matrix(np.zeros(theta.shape))\n",
    "    parameters = int(theta.shape[1])\n",
    "    cost = np.zeros(iters)\n",
    "    \n",
    "    for i in range(iters):\n",
    "        error = X * theta.T - Y\n",
    "        \n",
    "        for j in range(parameters):    \n",
    "            term = np.multiply(error, X[:, j])\n",
    "            temp[0, j] = temp[0, j] - alpha / len(X) * np.sum(term)\n",
    "        \n",
    "        theta = temp\n",
    "        cost[i] = computeCost(X, Y, theta)\n",
    "        \n",
    "    return theta, cost\n",
    "    \n",
    "    "
   ]
  },
  {
   "cell_type": "code",
   "execution_count": 12,
   "id": "171b82b2",
   "metadata": {
    "execution": {
     "iopub.execute_input": "2022-12-13T08:07:36.875792Z",
     "iopub.status.busy": "2022-12-13T08:07:36.875068Z",
     "iopub.status.idle": "2022-12-13T08:07:37.040852Z",
     "shell.execute_reply": "2022-12-13T08:07:37.039717Z",
     "shell.execute_reply.started": "2022-12-13T08:07:36.875755Z"
    }
   },
   "outputs": [
    {
     "data": {
      "text/plain": [
       "matrix([[-3.24799086,  1.12667581]])"
      ]
     },
     "execution_count": 12,
     "metadata": {},
     "output_type": "execute_result"
    }
   ],
   "source": [
    "#learning rate\n",
    "alpha = 0.01\n",
    "# epoch\n",
    "iters = 1000\n",
    "\n",
    "theta1, cost = gradientDescent(X, Y, theta, alpha, iters)\n",
    "theta1"
   ]
  },
  {
   "cell_type": "code",
   "execution_count": 13,
   "id": "4ade540e",
   "metadata": {
    "execution": {
     "iopub.execute_input": "2022-12-13T08:07:37.042764Z",
     "iopub.status.busy": "2022-12-13T08:07:37.042252Z",
     "iopub.status.idle": "2022-12-13T08:07:37.052730Z",
     "shell.execute_reply": "2022-12-13T08:07:37.051512Z",
     "shell.execute_reply.started": "2022-12-13T08:07:37.042725Z"
    }
   },
   "outputs": [
    {
     "name": "stdout",
     "output_type": "stream",
     "text": [
      "cost of model\n",
      "before training: 31.81715114528776\n",
      "after training: 4.478594730077563\n"
     ]
    }
   ],
   "source": [
    "# cost of model\n",
    "print(\"cost of model\")\n",
    "print(\"before training:\", computeCost(X, Y, theta))\n",
    "print(\"after training:\", computeCost(X, Y, theta1))"
   ]
  },
  {
   "cell_type": "code",
   "execution_count": 14,
   "id": "dacd5d9e",
   "metadata": {
    "execution": {
     "iopub.execute_input": "2022-12-13T08:07:37.055140Z",
     "iopub.status.busy": "2022-12-13T08:07:37.054138Z",
     "iopub.status.idle": "2022-12-13T08:07:37.326684Z",
     "shell.execute_reply": "2022-12-13T08:07:37.325710Z",
     "shell.execute_reply.started": "2022-12-13T08:07:37.055091Z"
    }
   },
   "outputs": [
    {
     "data": {
      "image/png": "[encoded data removed]",
      "text/plain": [
       "<Figure size 1200x800 with 1 Axes>"
      ]
     },
     "metadata": {},
     "output_type": "display_data"
    }
   ],
   "source": [
    "# fit image\n",
    "x = np.linspace(data.Population.min(), data.Population.max(), 100)\n",
    "f = theta1[0, 0] +  theta1[0, 1] * x\n",
    "\n",
    "plt.figure(figsize = (12, 8))\n",
    "plt.xlabel(\"Population\")\n",
    "plt.ylabel(\"Profit\")\n",
    "l1 = plt.plot(x, f, label=\"Prediction\", color='red')\n",
    "l2 = plt.scatter(data.Population, data.Profit, label=\"Training Data\")\n",
    "plt.legend(loc=\"best\")\n",
    "plt.title(\"Predicted Profit vs Population Size\")\n",
    "plt.show()"
   ]
  },
  {
   "cell_type": "code",
   "execution_count": 15,
   "id": "7119cb7d",
   "metadata": {
    "execution": {
     "iopub.execute_input": "2022-12-13T08:07:37.328482Z",
     "iopub.status.busy": "2022-12-13T08:07:37.328024Z",
     "iopub.status.idle": "2022-12-13T08:07:37.543460Z",
     "shell.execute_reply": "2022-12-13T08:07:37.542489Z",
     "shell.execute_reply.started": "2022-12-13T08:07:37.328443Z"
    }
   },
   "outputs": [
    {
     "data": {
      "image/png": "[encoded data removed]",
      "text/plain": [
       "<Figure size 1200x800 with 1 Axes>"
      ]
     },
     "metadata": {},
     "output_type": "display_data"
    }
   ],
   "source": [
    "# Trend of cost\n",
    "plt.figure(figsize=(12, 8))\n",
    "plt.xlabel('Iterations')\n",
    "plt.ylabel('Cost')\n",
    "plt.title(\"Error vs Training Epoch\")\n",
    "plt.plot(np.arange(iters), cost, 'r')\n",
    "plt.show()"
   ]
  },
  {
   "cell_type": "code",
   "execution_count": null,
   "id": "bbeadf2c",
   "metadata": {},
   "outputs": [],
   "source": []
  },
  {
   "cell_type": "code",
   "execution_count": null,
   "id": "7af15287",
   "metadata": {},
   "outputs": [],
   "source": []
  }
 ],
 "metadata": {
  "kernelspec": {
   "display_name": "Python 3 (ipykernel)",
   "language": "python",
   "name": "python3"
  },
  "language_info": {
   "codemirror_mode": {
    "name": "ipython",
    "version": 3
   },
   "file_extension": ".py",
   "mimetype": "text/x-python",
   "name": "python",
   "nbconvert_exporter": "python",
   "pygments_lexer": "ipython3",
   "version": "3.9.13"
  }
 },
 "nbformat": 4,
 "nbformat_minor": 5
}
