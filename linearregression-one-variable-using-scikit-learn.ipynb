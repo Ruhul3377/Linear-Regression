{
 "cells": [
  {
   "cell_type": "markdown",
   "id": "f872974b",
   "metadata": {},
   "source": [
    "## Plotting the Data"
   ]
  },
  {
   "cell_type": "code",
   "execution_count": 1,
   "id": "643c2fa4",
   "metadata": {
    "execution": {
     "iopub.execute_input": "2022-12-13T08:27:10.390075Z",
     "iopub.status.busy": "2022-12-13T08:27:10.388301Z",
     "iopub.status.idle": "2022-12-13T08:27:10.401250Z",
     "shell.execute_reply": "2022-12-13T08:27:10.400146Z",
     "shell.execute_reply.started": "2022-12-13T08:27:10.389928Z"
    }
   },
   "outputs": [],
   "source": [
    "import numpy as np\n",
    "import pandas as pd\n",
    "import matplotlib.pyplot as plt\n",
    "\n",
    "import warnings as wr\n",
    "wr.filterwarnings('ignore')"
   ]
  },
  {
   "cell_type": "code",
   "execution_count": 2,
   "id": "ab1a7c13",
   "metadata": {
    "execution": {
     "iopub.execute_input": "2022-12-13T08:27:10.407011Z",
     "iopub.status.busy": "2022-12-13T08:27:10.406692Z",
     "iopub.status.idle": "2022-12-13T08:27:10.415556Z",
     "shell.execute_reply": "2022-12-13T08:27:10.414748Z",
     "shell.execute_reply.started": "2022-12-13T08:27:10.406981Z"
    }
   },
   "outputs": [],
   "source": [
    "# # read data\n",
    "# path  = 'ex1data1.txt'\n",
    "# data = pd.read_csv(path, header=None, names=['Population', 'Profit'])\n",
    "# data.head()\n",
    "\n",
    "data= pd.read_csv('../input/population-profit/Population_Profit.txt', header = None, names=['Population', 'Profit'])"
   ]
  },
  {
   "cell_type": "code",
   "execution_count": 3,
   "id": "29628a23",
   "metadata": {
    "execution": {
     "iopub.execute_input": "2022-12-13T08:27:10.417253Z",
     "iopub.status.busy": "2022-12-13T08:27:10.416770Z",
     "iopub.status.idle": "2022-12-13T08:27:10.685853Z",
     "shell.execute_reply": "2022-12-13T08:27:10.684659Z",
     "shell.execute_reply.started": "2022-12-13T08:27:10.417224Z"
    }
   },
   "outputs": [
    {
     "data": {
      "text/plain": [
       "<function matplotlib.pyplot.show(close=None, block=None)>"
      ]
     },
     "execution_count": 3,
     "metadata": {},
     "output_type": "execute_result"
    },
    {
     "data": {
      "image/png": "[encoded data removed]",
      "text/plain": [
       "<Figure size 864x576 with 1 Axes>"
      ]
     },
     "metadata": {
      "needs_background": "light"
     },
     "output_type": "display_data"
    }
   ],
   "source": [
    "# visualizing the data\n",
    "data.plot(kind='scatter', x='Population', y='Profit', figsize=(12, 8))\n",
    "plt.show"
   ]
  },
  {
   "cell_type": "markdown",
   "id": "530c1ae2",
   "metadata": {},
   "source": [
    "## Cost Function\n",
    "\n"
   ]
  },
  {
   "cell_type": "code",
   "execution_count": 4,
   "id": "6392649c",
   "metadata": {
    "execution": {
     "iopub.execute_input": "2022-12-13T08:27:10.690217Z",
     "iopub.status.busy": "2022-12-13T08:27:10.689507Z",
     "iopub.status.idle": "2022-12-13T08:27:10.704736Z",
     "shell.execute_reply": "2022-12-13T08:27:10.703904Z",
     "shell.execute_reply.started": "2022-12-13T08:27:10.690170Z"
    }
   },
   "outputs": [
    {
     "data": {
      "text/html": [
       "<div>\n",
       "<style scoped>\n",
       "    .dataframe tbody tr th:only-of-type {\n",
       "        vertical-align: middle;\n",
       "    }\n",
       "\n",
       "    .dataframe tbody tr th {\n",
       "        vertical-align: top;\n",
       "    }\n",
       "\n",
       "    .dataframe thead th {\n",
       "        text-align: right;\n",
       "    }\n",
       "</style>\n",
       "<table border=\"1\" class=\"dataframe\">\n",
       "  <thead>\n",
       "    <tr style=\"text-align: right;\">\n",
       "      <th></th>\n",
       "      <th>Ones</th>\n",
       "      <th>Population</th>\n",
       "      <th>Profit</th>\n",
       "    </tr>\n",
       "  </thead>\n",
       "  <tbody>\n",
       "    <tr>\n",
       "      <th>0</th>\n",
       "      <td>1</td>\n",
       "      <td>6.1101</td>\n",
       "      <td>17.5920</td>\n",
       "    </tr>\n",
       "    <tr>\n",
       "      <th>1</th>\n",
       "      <td>1</td>\n",
       "      <td>5.5277</td>\n",
       "      <td>9.1302</td>\n",
       "    </tr>\n",
       "    <tr>\n",
       "      <th>2</th>\n",
       "      <td>1</td>\n",
       "      <td>8.5186</td>\n",
       "      <td>13.6620</td>\n",
       "    </tr>\n",
       "    <tr>\n",
       "      <th>3</th>\n",
       "      <td>1</td>\n",
       "      <td>7.0032</td>\n",
       "      <td>11.8540</td>\n",
       "    </tr>\n",
       "    <tr>\n",
       "      <th>4</th>\n",
       "      <td>1</td>\n",
       "      <td>5.8598</td>\n",
       "      <td>6.8233</td>\n",
       "    </tr>\n",
       "  </tbody>\n",
       "</table>\n",
       "</div>"
      ],
      "text/plain": [
       "   Ones  Population   Profit\n",
       "0     1      6.1101  17.5920\n",
       "1     1      5.5277   9.1302\n",
       "2     1      8.5186  13.6620\n",
       "3     1      7.0032  11.8540\n",
       "4     1      5.8598   6.8233"
      ]
     },
     "execution_count": 4,
     "metadata": {},
     "output_type": "execute_result"
    }
   ],
   "source": [
    "# insert a column\n",
    "data.insert(0,'Ones',1)\n",
    "data.head()"
   ]
  },
  {
   "cell_type": "code",
   "execution_count": 5,
   "id": "4e137b1c",
   "metadata": {
    "execution": {
     "iopub.execute_input": "2022-12-13T08:27:10.706807Z",
     "iopub.status.busy": "2022-12-13T08:27:10.705926Z",
     "iopub.status.idle": "2022-12-13T08:27:10.712755Z",
     "shell.execute_reply": "2022-12-13T08:27:10.711667Z",
     "shell.execute_reply.started": "2022-12-13T08:27:10.706773Z"
    }
   },
   "outputs": [],
   "source": [
    "# split data to X and Y\n",
    "cols = data.shape[1]\n",
    "X = data.iloc[:, 0:cols-1]\n",
    "Y = data.iloc[:, cols-1:cols]"
   ]
  },
  {
   "cell_type": "code",
   "execution_count": 6,
   "id": "ccb3dc8c",
   "metadata": {
    "execution": {
     "iopub.execute_input": "2022-12-13T08:27:10.716588Z",
     "iopub.status.busy": "2022-12-13T08:27:10.716227Z",
     "iopub.status.idle": "2022-12-13T08:27:10.727361Z",
     "shell.execute_reply": "2022-12-13T08:27:10.726423Z",
     "shell.execute_reply.started": "2022-12-13T08:27:10.716546Z"
    }
   },
   "outputs": [
    {
     "data": {
      "text/html": [
       "<div>\n",
       "<style scoped>\n",
       "    .dataframe tbody tr th:only-of-type {\n",
       "        vertical-align: middle;\n",
       "    }\n",
       "\n",
       "    .dataframe tbody tr th {\n",
       "        vertical-align: top;\n",
       "    }\n",
       "\n",
       "    .dataframe thead th {\n",
       "        text-align: right;\n",
       "    }\n",
       "</style>\n",
       "<table border=\"1\" class=\"dataframe\">\n",
       "  <thead>\n",
       "    <tr style=\"text-align: right;\">\n",
       "      <th></th>\n",
       "      <th>Ones</th>\n",
       "      <th>Population</th>\n",
       "    </tr>\n",
       "  </thead>\n",
       "  <tbody>\n",
       "    <tr>\n",
       "      <th>0</th>\n",
       "      <td>1</td>\n",
       "      <td>6.1101</td>\n",
       "    </tr>\n",
       "    <tr>\n",
       "      <th>1</th>\n",
       "      <td>1</td>\n",
       "      <td>5.5277</td>\n",
       "    </tr>\n",
       "    <tr>\n",
       "      <th>2</th>\n",
       "      <td>1</td>\n",
       "      <td>8.5186</td>\n",
       "    </tr>\n",
       "    <tr>\n",
       "      <th>3</th>\n",
       "      <td>1</td>\n",
       "      <td>7.0032</td>\n",
       "    </tr>\n",
       "    <tr>\n",
       "      <th>4</th>\n",
       "      <td>1</td>\n",
       "      <td>5.8598</td>\n",
       "    </tr>\n",
       "  </tbody>\n",
       "</table>\n",
       "</div>"
      ],
      "text/plain": [
       "   Ones  Population\n",
       "0     1      6.1101\n",
       "1     1      5.5277\n",
       "2     1      8.5186\n",
       "3     1      7.0032\n",
       "4     1      5.8598"
      ]
     },
     "execution_count": 6,
     "metadata": {},
     "output_type": "execute_result"
    }
   ],
   "source": [
    "X.head()"
   ]
  },
  {
   "cell_type": "code",
   "execution_count": 7,
   "id": "3adb7148",
   "metadata": {
    "execution": {
     "iopub.execute_input": "2022-12-13T08:27:10.728814Z",
     "iopub.status.busy": "2022-12-13T08:27:10.728468Z",
     "iopub.status.idle": "2022-12-13T08:27:10.740298Z",
     "shell.execute_reply": "2022-12-13T08:27:10.739428Z",
     "shell.execute_reply.started": "2022-12-13T08:27:10.728777Z"
    }
   },
   "outputs": [
    {
     "data": {
      "text/html": [
       "<div>\n",
       "<style scoped>\n",
       "    .dataframe tbody tr th:only-of-type {\n",
       "        vertical-align: middle;\n",
       "    }\n",
       "\n",
       "    .dataframe tbody tr th {\n",
       "        vertical-align: top;\n",
       "    }\n",
       "\n",
       "    .dataframe thead th {\n",
       "        text-align: right;\n",
       "    }\n",
       "</style>\n",
       "<table border=\"1\" class=\"dataframe\">\n",
       "  <thead>\n",
       "    <tr style=\"text-align: right;\">\n",
       "      <th></th>\n",
       "      <th>Profit</th>\n",
       "    </tr>\n",
       "  </thead>\n",
       "  <tbody>\n",
       "    <tr>\n",
       "      <th>0</th>\n",
       "      <td>17.5920</td>\n",
       "    </tr>\n",
       "    <tr>\n",
       "      <th>1</th>\n",
       "      <td>9.1302</td>\n",
       "    </tr>\n",
       "    <tr>\n",
       "      <th>2</th>\n",
       "      <td>13.6620</td>\n",
       "    </tr>\n",
       "    <tr>\n",
       "      <th>3</th>\n",
       "      <td>11.8540</td>\n",
       "    </tr>\n",
       "    <tr>\n",
       "      <th>4</th>\n",
       "      <td>6.8233</td>\n",
       "    </tr>\n",
       "  </tbody>\n",
       "</table>\n",
       "</div>"
      ],
      "text/plain": [
       "    Profit\n",
       "0  17.5920\n",
       "1   9.1302\n",
       "2  13.6620\n",
       "3  11.8540\n",
       "4   6.8233"
      ]
     },
     "execution_count": 7,
     "metadata": {},
     "output_type": "execute_result"
    }
   ],
   "source": [
    "Y.head()"
   ]
  },
  {
   "cell_type": "code",
   "execution_count": 8,
   "id": "0438e514",
   "metadata": {
    "execution": {
     "iopub.execute_input": "2022-12-13T08:27:10.742179Z",
     "iopub.status.busy": "2022-12-13T08:27:10.741481Z",
     "iopub.status.idle": "2022-12-13T08:27:10.751105Z",
     "shell.execute_reply": "2022-12-13T08:27:10.749912Z",
     "shell.execute_reply.started": "2022-12-13T08:27:10.742147Z"
    }
   },
   "outputs": [
    {
     "data": {
      "text/plain": [
       "((98, 2), (98, 1), (1, 2))"
      ]
     },
     "execution_count": 8,
     "metadata": {},
     "output_type": "execute_result"
    }
   ],
   "source": [
    "# convert X and Y into matrix\n",
    "X = np.matrix(X.values)\n",
    "Y = np.matrix(Y.values)\n",
    "\n",
    "theta = np.matrix(np.array([0,0]))\n",
    "\n",
    "X.shape, Y.shape, theta.shape\n"
   ]
  },
  {
   "cell_type": "markdown",
   "id": "c57132c0",
   "metadata": {},
   "source": [
    "formula of cost function\n",
    "![](img/cost.png)"
   ]
  },
  {
   "cell_type": "code",
   "execution_count": 9,
   "id": "040032f6",
   "metadata": {
    "execution": {
     "iopub.execute_input": "2022-12-13T08:27:10.753034Z",
     "iopub.status.busy": "2022-12-13T08:27:10.752607Z",
     "iopub.status.idle": "2022-12-13T08:27:10.759325Z",
     "shell.execute_reply": "2022-12-13T08:27:10.758237Z",
     "shell.execute_reply.started": "2022-12-13T08:27:10.752982Z"
    }
   },
   "outputs": [],
   "source": [
    "# cost function \n",
    "def computeCost(X, Y, theta):\n",
    "    inner = np.power((X * theta.T)-Y, 2)\n",
    "    return np.sum(inner) / (2 * len(X))"
   ]
  },
  {
   "cell_type": "code",
   "execution_count": 10,
   "id": "863fc7e3",
   "metadata": {
    "execution": {
     "iopub.execute_input": "2022-12-13T08:27:10.760858Z",
     "iopub.status.busy": "2022-12-13T08:27:10.760507Z",
     "iopub.status.idle": "2022-12-13T08:27:10.773064Z",
     "shell.execute_reply": "2022-12-13T08:27:10.771931Z",
     "shell.execute_reply.started": "2022-12-13T08:27:10.760828Z"
    }
   },
   "outputs": [
    {
     "data": {
      "text/plain": [
       "31.81715114528776"
      ]
     },
     "execution_count": 10,
     "metadata": {},
     "output_type": "execute_result"
    }
   ],
   "source": [
    "computeCost(X, Y, theta)"
   ]
  },
  {
   "cell_type": "markdown",
   "id": "c8ecc234",
   "metadata": {},
   "source": [
    "## scikit-learn"
   ]
  },
  {
   "cell_type": "code",
   "execution_count": 11,
   "id": "2314833a",
   "metadata": {
    "execution": {
     "iopub.execute_input": "2022-12-13T08:27:10.774672Z",
     "iopub.status.busy": "2022-12-13T08:27:10.774302Z",
     "iopub.status.idle": "2022-12-13T08:27:11.262915Z",
     "shell.execute_reply": "2022-12-13T08:27:11.262005Z",
     "shell.execute_reply.started": "2022-12-13T08:27:10.774641Z"
    }
   },
   "outputs": [
    {
     "data": {
      "text/plain": [
       "LinearRegression()"
      ]
     },
     "execution_count": 11,
     "metadata": {},
     "output_type": "execute_result"
    }
   ],
   "source": [
    "from sklearn import linear_model\n",
    "model = linear_model.LinearRegression()\n",
    "model.fit(X,Y)"
   ]
  },
  {
   "cell_type": "code",
   "execution_count": 12,
   "id": "8de36caa",
   "metadata": {
    "execution": {
     "iopub.execute_input": "2022-12-13T08:27:11.267206Z",
     "iopub.status.busy": "2022-12-13T08:27:11.266238Z",
     "iopub.status.idle": "2022-12-13T08:27:11.478072Z",
     "shell.execute_reply": "2022-12-13T08:27:11.476878Z",
     "shell.execute_reply.started": "2022-12-13T08:27:11.267172Z"
    }
   },
   "outputs": [
    {
     "data": {
      "image/png": "[encoded data removed]",
      "text/plain": [
       "<Figure size 864x576 with 1 Axes>"
      ]
     },
     "metadata": {
      "needs_background": "light"
     },
     "output_type": "display_data"
    }
   ],
   "source": [
    "# fit image\n",
    "x = np.array(X[:, 1].A1)\n",
    "y = model.predict(X).flatten()\n",
    "\n",
    "plt.figure(figsize = (12, 8))\n",
    "plt.xlabel(\"Population\")\n",
    "plt.ylabel(\"Profit\")\n",
    "l1 = plt.plot(x, y, label=\"Prediction\", color='red')\n",
    "l2 = plt.scatter(data.Population, data.Profit, label=\"Training Data\")\n",
    "plt.legend(loc=\"best\")\n",
    "plt.title(\"Predicted Profit vs Population Size\")\n",
    "plt.show()"
   ]
  },
  {
   "cell_type": "code",
   "execution_count": null,
   "id": "18e4c3ca",
   "metadata": {},
   "outputs": [],
   "source": []
  },
  {
   "cell_type": "code",
   "execution_count": null,
   "id": "d0fac21f",
   "metadata": {},
   "outputs": [],
   "source": []
  }
 ],
 "metadata": {
  "kernelspec": {
   "display_name": "Python 3 (ipykernel)",
   "language": "python",
   "name": "python3"
  },
  "language_info": {
   "codemirror_mode": {
    "name": "ipython",
    "version": 3
   },
   "file_extension": ".py",
   "mimetype": "text/x-python",
   "name": "python",
   "nbconvert_exporter": "python",
   "pygments_lexer": "ipython3",
   "version": "3.9.13"
  }
 },
 "nbformat": 4,
 "nbformat_minor": 5
}
