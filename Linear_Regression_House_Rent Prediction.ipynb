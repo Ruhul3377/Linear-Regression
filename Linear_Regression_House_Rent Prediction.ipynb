{
 "cells": [
  {
   "cell_type": "code",
   "execution_count": 1,
   "id": "7bfe72df",
   "metadata": {
    "id": "7bfe72df"
   },
   "outputs": [],
   "source": [
    "import pandas as pd\n",
    "import matplotlib.pyplot as plt\n",
    "import warnings as  wr\n",
    "wr.filterwarnings('ignore')"
   ]
  },
  {
   "cell_type": "code",
   "execution_count": 2,
   "id": "93746ced",
   "metadata": {
    "id": "93746ced"
   },
   "outputs": [],
   "source": [
    "df = pd.read_csv('Datasets/Dhaka Rent.csv')"
   ]
  },
  {
   "cell_type": "code",
   "execution_count": 3,
   "id": "77d33a2d",
   "metadata": {
    "id": "77d33a2d",
    "outputId": "3ddd7d6c-4089-46c4-a8f0-d5d252098dad"
   },
   "outputs": [
    {
     "data": {
      "text/html": [
       "<div>\n",
       "<style scoped>\n",
       "    .dataframe tbody tr th:only-of-type {\n",
       "        vertical-align: middle;\n",
       "    }\n",
       "\n",
       "    .dataframe tbody tr th {\n",
       "        vertical-align: top;\n",
       "    }\n",
       "\n",
       "    .dataframe thead th {\n",
       "        text-align: right;\n",
       "    }\n",
       "</style>\n",
       "<table border=\"1\" class=\"dataframe\">\n",
       "  <thead>\n",
       "    <tr style=\"text-align: right;\">\n",
       "      <th></th>\n",
       "      <th>area</th>\n",
       "      <th>rent</th>\n",
       "    </tr>\n",
       "  </thead>\n",
       "  <tbody>\n",
       "    <tr>\n",
       "      <th>0</th>\n",
       "      <td>2000</td>\n",
       "      <td>31500</td>\n",
       "    </tr>\n",
       "    <tr>\n",
       "      <th>1</th>\n",
       "      <td>2100</td>\n",
       "      <td>35000</td>\n",
       "    </tr>\n",
       "    <tr>\n",
       "      <th>2</th>\n",
       "      <td>2500</td>\n",
       "      <td>41050</td>\n",
       "    </tr>\n",
       "    <tr>\n",
       "      <th>3</th>\n",
       "      <td>2250</td>\n",
       "      <td>36100</td>\n",
       "    </tr>\n",
       "    <tr>\n",
       "      <th>4</th>\n",
       "      <td>3000</td>\n",
       "      <td>52100</td>\n",
       "    </tr>\n",
       "  </tbody>\n",
       "</table>\n",
       "</div>"
      ],
      "text/plain": [
       "   area   rent\n",
       "0  2000  31500\n",
       "1  2100  35000\n",
       "2  2500  41050\n",
       "3  2250  36100\n",
       "4  3000  52100"
      ]
     },
     "execution_count": 3,
     "metadata": {},
     "output_type": "execute_result"
    }
   ],
   "source": [
    "df.head()"
   ]
  },
  {
   "cell_type": "code",
   "execution_count": 4,
   "id": "d5d674ab",
   "metadata": {
    "id": "d5d674ab",
    "outputId": "84f08b16-7caf-466c-f53f-b0531e191e52"
   },
   "outputs": [
    {
     "data": {
      "text/html": [
       "<div>\n",
       "<style scoped>\n",
       "    .dataframe tbody tr th:only-of-type {\n",
       "        vertical-align: middle;\n",
       "    }\n",
       "\n",
       "    .dataframe tbody tr th {\n",
       "        vertical-align: top;\n",
       "    }\n",
       "\n",
       "    .dataframe thead th {\n",
       "        text-align: right;\n",
       "    }\n",
       "</style>\n",
       "<table border=\"1\" class=\"dataframe\">\n",
       "  <thead>\n",
       "    <tr style=\"text-align: right;\">\n",
       "      <th></th>\n",
       "      <th>area</th>\n",
       "      <th>rent</th>\n",
       "    </tr>\n",
       "  </thead>\n",
       "  <tbody>\n",
       "    <tr>\n",
       "      <th>0</th>\n",
       "      <td>2000</td>\n",
       "      <td>31500</td>\n",
       "    </tr>\n",
       "    <tr>\n",
       "      <th>1</th>\n",
       "      <td>2100</td>\n",
       "      <td>35000</td>\n",
       "    </tr>\n",
       "  </tbody>\n",
       "</table>\n",
       "</div>"
      ],
      "text/plain": [
       "   area   rent\n",
       "0  2000  31500\n",
       "1  2100  35000"
      ]
     },
     "execution_count": 4,
     "metadata": {},
     "output_type": "execute_result"
    }
   ],
   "source": [
    "df.head(2)"
   ]
  },
  {
   "cell_type": "code",
   "execution_count": 5,
   "id": "ddfc0d16",
   "metadata": {
    "id": "ddfc0d16",
    "outputId": "4b6f6880-c0ca-488a-8be5-015600319970"
   },
   "outputs": [
    {
     "data": {
      "text/html": [
       "<div>\n",
       "<style scoped>\n",
       "    .dataframe tbody tr th:only-of-type {\n",
       "        vertical-align: middle;\n",
       "    }\n",
       "\n",
       "    .dataframe tbody tr th {\n",
       "        vertical-align: top;\n",
       "    }\n",
       "\n",
       "    .dataframe thead th {\n",
       "        text-align: right;\n",
       "    }\n",
       "</style>\n",
       "<table border=\"1\" class=\"dataframe\">\n",
       "  <thead>\n",
       "    <tr style=\"text-align: right;\">\n",
       "      <th></th>\n",
       "      <th>area</th>\n",
       "      <th>rent</th>\n",
       "    </tr>\n",
       "  </thead>\n",
       "  <tbody>\n",
       "    <tr>\n",
       "      <th>57</th>\n",
       "      <td>1800</td>\n",
       "      <td>25100</td>\n",
       "    </tr>\n",
       "    <tr>\n",
       "      <th>58</th>\n",
       "      <td>2200</td>\n",
       "      <td>31560</td>\n",
       "    </tr>\n",
       "    <tr>\n",
       "      <th>59</th>\n",
       "      <td>3100</td>\n",
       "      <td>51600</td>\n",
       "    </tr>\n",
       "  </tbody>\n",
       "</table>\n",
       "</div>"
      ],
      "text/plain": [
       "    area   rent\n",
       "57  1800  25100\n",
       "58  2200  31560\n",
       "59  3100  51600"
      ]
     },
     "execution_count": 5,
     "metadata": {},
     "output_type": "execute_result"
    }
   ],
   "source": [
    "df.tail(3)"
   ]
  },
  {
   "cell_type": "code",
   "execution_count": 6,
   "id": "da2a99e3",
   "metadata": {
    "id": "da2a99e3"
   },
   "outputs": [],
   "source": [
    "df2 = pd.read_csv('Dhaka Rent.csv')"
   ]
  },
  {
   "cell_type": "code",
   "execution_count": 7,
   "id": "b16349f2",
   "metadata": {
    "id": "b16349f2",
    "outputId": "eacd6de1-4afe-4518-eaec-51910b414c8a"
   },
   "outputs": [
    {
     "data": {
      "text/html": [
       "<div>\n",
       "<style scoped>\n",
       "    .dataframe tbody tr th:only-of-type {\n",
       "        vertical-align: middle;\n",
       "    }\n",
       "\n",
       "    .dataframe tbody tr th {\n",
       "        vertical-align: top;\n",
       "    }\n",
       "\n",
       "    .dataframe thead th {\n",
       "        text-align: right;\n",
       "    }\n",
       "</style>\n",
       "<table border=\"1\" class=\"dataframe\">\n",
       "  <thead>\n",
       "    <tr style=\"text-align: right;\">\n",
       "      <th></th>\n",
       "      <th>area</th>\n",
       "      <th>rent</th>\n",
       "    </tr>\n",
       "  </thead>\n",
       "  <tbody>\n",
       "    <tr>\n",
       "      <th>0</th>\n",
       "      <td>2000</td>\n",
       "      <td>31500</td>\n",
       "    </tr>\n",
       "    <tr>\n",
       "      <th>1</th>\n",
       "      <td>2100</td>\n",
       "      <td>35000</td>\n",
       "    </tr>\n",
       "    <tr>\n",
       "      <th>2</th>\n",
       "      <td>2500</td>\n",
       "      <td>41050</td>\n",
       "    </tr>\n",
       "    <tr>\n",
       "      <th>3</th>\n",
       "      <td>2250</td>\n",
       "      <td>36100</td>\n",
       "    </tr>\n",
       "    <tr>\n",
       "      <th>4</th>\n",
       "      <td>3000</td>\n",
       "      <td>52100</td>\n",
       "    </tr>\n",
       "  </tbody>\n",
       "</table>\n",
       "</div>"
      ],
      "text/plain": [
       "   area   rent\n",
       "0  2000  31500\n",
       "1  2100  35000\n",
       "2  2500  41050\n",
       "3  2250  36100\n",
       "4  3000  52100"
      ]
     },
     "execution_count": 7,
     "metadata": {},
     "output_type": "execute_result"
    }
   ],
   "source": [
    "df2.head()"
   ]
  },
  {
   "cell_type": "code",
   "execution_count": 8,
   "id": "37334071",
   "metadata": {
    "id": "37334071",
    "outputId": "b7a2bb00-f534-49f4-e406-71d8683ec2e7"
   },
   "outputs": [
    {
     "data": {
      "text/plain": [
       "(60, 2)"
      ]
     },
     "execution_count": 8,
     "metadata": {},
     "output_type": "execute_result"
    }
   ],
   "source": [
    "df.shape"
   ]
  },
  {
   "cell_type": "code",
   "execution_count": 9,
   "id": "b7b91676",
   "metadata": {
    "id": "b7b91676",
    "outputId": "3553cb39-8601-487a-d84a-27b7599b9923"
   },
   "outputs": [
    {
     "data": {
      "text/plain": [
       "area    0\n",
       "rent    0\n",
       "dtype: int64"
      ]
     },
     "execution_count": 9,
     "metadata": {},
     "output_type": "execute_result"
    }
   ],
   "source": [
    "df.isnull().sum()"
   ]
  },
  {
   "cell_type": "code",
   "execution_count": 10,
   "id": "64469143",
   "metadata": {
    "id": "64469143"
   },
   "outputs": [],
   "source": [
    "#df.isnull()"
   ]
  },
  {
   "cell_type": "code",
   "execution_count": 11,
   "id": "26a7338f",
   "metadata": {
    "id": "26a7338f",
    "outputId": "648ba1fe-0846-408d-bd37-ab8430215768"
   },
   "outputs": [
    {
     "name": "stdout",
     "output_type": "stream",
     "text": [
      "<class 'pandas.core.frame.DataFrame'>\n",
      "RangeIndex: 60 entries, 0 to 59\n",
      "Data columns (total 2 columns):\n",
      " #   Column  Non-Null Count  Dtype\n",
      "---  ------  --------------  -----\n",
      " 0   area    60 non-null     int64\n",
      " 1   rent    60 non-null     int64\n",
      "dtypes: int64(2)\n",
      "memory usage: 1.1 KB\n"
     ]
    }
   ],
   "source": [
    "df.info()"
   ]
  },
  {
   "cell_type": "code",
   "execution_count": 12,
   "id": "2937ce66",
   "metadata": {
    "id": "2937ce66",
    "outputId": "febb5e09-bd3d-4da1-af32-5488f29ab488"
   },
   "outputs": [
    {
     "data": {
      "text/plain": [
       "<matplotlib.collections.PathCollection at 0x24b95fb4970>"
      ]
     },
     "execution_count": 12,
     "metadata": {},
     "output_type": "execute_result"
    },
    {
     "data": {
      "image/png": "[encoded data removed]",
      "text/plain": [
       "<Figure size 640x480 with 1 Axes>"
      ]
     },
     "metadata": {},
     "output_type": "display_data"
    }
   ],
   "source": [
    "plt.scatter(df.area, df.rent)"
   ]
  },
  {
   "cell_type": "code",
   "execution_count": 13,
   "id": "18b119d8",
   "metadata": {
    "id": "18b119d8",
    "outputId": "eaeb38f1-49a6-4457-cfcb-71c05672d286"
   },
   "outputs": [
    {
     "data": {
      "image/png": "[encoded data removed]",
      "text/plain": [
       "<Figure size 640x480 with 1 Axes>"
      ]
     },
     "metadata": {},
     "output_type": "display_data"
    }
   ],
   "source": [
    "plt.scatter(df.area, df.rent, color='black')\n",
    "plt.xlabel('Area in square feet')\n",
    "plt.ylabel('Rent in Bangladeshi Taka')\n",
    "plt.title('Area - Rent Plot')\n",
    "plt.savefig('img1.png')"
   ]
  },
  {
   "cell_type": "code",
   "execution_count": 14,
   "id": "c3bc69e4",
   "metadata": {
    "id": "c3bc69e4",
    "outputId": "134d8b47-38ee-40d6-8338-57661530cae3"
   },
   "outputs": [
    {
     "data": {
      "text/plain": [
       "2289.0"
      ]
     },
     "execution_count": 14,
     "metadata": {},
     "output_type": "execute_result"
    }
   ],
   "source": [
    "df.area.mean()"
   ]
  },
  {
   "cell_type": "code",
   "execution_count": 15,
   "id": "e325af96",
   "metadata": {
    "id": "e325af96",
    "outputId": "20bbb392-b422-4d22-97d1-719cc58a8087"
   },
   "outputs": [
    {
     "data": {
      "text/plain": [
       "37269.166666666664"
      ]
     },
     "execution_count": 15,
     "metadata": {},
     "output_type": "execute_result"
    }
   ],
   "source": [
    "df.rent.mean()"
   ]
  },
  {
   "cell_type": "code",
   "execution_count": 16,
   "id": "1e6ee62f",
   "metadata": {
    "id": "1e6ee62f"
   },
   "outputs": [],
   "source": [
    "x = df[['area']] # x = df.drop('rent', axis=1)"
   ]
  },
  {
   "cell_type": "code",
   "execution_count": 17,
   "id": "e676ff38",
   "metadata": {
    "id": "e676ff38"
   },
   "outputs": [],
   "source": [
    "y = df[['rent']] # y = df.drop('area', axis=1)"
   ]
  },
  {
   "cell_type": "code",
   "execution_count": 18,
   "id": "81288b12",
   "metadata": {
    "id": "81288b12",
    "outputId": "1da3a4cf-56d5-4920-aa09-476bd5623cfd"
   },
   "outputs": [
    {
     "data": {
      "text/html": [
       "<div>\n",
       "<style scoped>\n",
       "    .dataframe tbody tr th:only-of-type {\n",
       "        vertical-align: middle;\n",
       "    }\n",
       "\n",
       "    .dataframe tbody tr th {\n",
       "        vertical-align: top;\n",
       "    }\n",
       "\n",
       "    .dataframe thead th {\n",
       "        text-align: right;\n",
       "    }\n",
       "</style>\n",
       "<table border=\"1\" class=\"dataframe\">\n",
       "  <thead>\n",
       "    <tr style=\"text-align: right;\">\n",
       "      <th></th>\n",
       "      <th>rent</th>\n",
       "    </tr>\n",
       "  </thead>\n",
       "  <tbody>\n",
       "    <tr>\n",
       "      <th>0</th>\n",
       "      <td>31500</td>\n",
       "    </tr>\n",
       "    <tr>\n",
       "      <th>1</th>\n",
       "      <td>35000</td>\n",
       "    </tr>\n",
       "    <tr>\n",
       "      <th>2</th>\n",
       "      <td>41050</td>\n",
       "    </tr>\n",
       "    <tr>\n",
       "      <th>3</th>\n",
       "      <td>36100</td>\n",
       "    </tr>\n",
       "    <tr>\n",
       "      <th>4</th>\n",
       "      <td>52100</td>\n",
       "    </tr>\n",
       "  </tbody>\n",
       "</table>\n",
       "</div>"
      ],
      "text/plain": [
       "    rent\n",
       "0  31500\n",
       "1  35000\n",
       "2  41050\n",
       "3  36100\n",
       "4  52100"
      ]
     },
     "execution_count": 18,
     "metadata": {},
     "output_type": "execute_result"
    }
   ],
   "source": [
    "y.head() #"
   ]
  },
  {
   "cell_type": "code",
   "execution_count": 19,
   "id": "13703c65",
   "metadata": {
    "id": "13703c65",
    "outputId": "7f4b956a-1c24-4b84-fcfc-a12748d44ed3"
   },
   "outputs": [
    {
     "data": {
      "text/html": [
       "<div>\n",
       "<style scoped>\n",
       "    .dataframe tbody tr th:only-of-type {\n",
       "        vertical-align: middle;\n",
       "    }\n",
       "\n",
       "    .dataframe tbody tr th {\n",
       "        vertical-align: top;\n",
       "    }\n",
       "\n",
       "    .dataframe thead th {\n",
       "        text-align: right;\n",
       "    }\n",
       "</style>\n",
       "<table border=\"1\" class=\"dataframe\">\n",
       "  <thead>\n",
       "    <tr style=\"text-align: right;\">\n",
       "      <th></th>\n",
       "      <th>area</th>\n",
       "    </tr>\n",
       "  </thead>\n",
       "  <tbody>\n",
       "    <tr>\n",
       "      <th>0</th>\n",
       "      <td>2000</td>\n",
       "    </tr>\n",
       "    <tr>\n",
       "      <th>1</th>\n",
       "      <td>2100</td>\n",
       "    </tr>\n",
       "    <tr>\n",
       "      <th>2</th>\n",
       "      <td>2500</td>\n",
       "    </tr>\n",
       "    <tr>\n",
       "      <th>3</th>\n",
       "      <td>2250</td>\n",
       "    </tr>\n",
       "    <tr>\n",
       "      <th>4</th>\n",
       "      <td>3000</td>\n",
       "    </tr>\n",
       "  </tbody>\n",
       "</table>\n",
       "</div>"
      ],
      "text/plain": [
       "   area\n",
       "0  2000\n",
       "1  2100\n",
       "2  2500\n",
       "3  2250\n",
       "4  3000"
      ]
     },
     "execution_count": 19,
     "metadata": {},
     "output_type": "execute_result"
    }
   ],
   "source": [
    "x.head()"
   ]
  },
  {
   "cell_type": "code",
   "execution_count": 20,
   "id": "a09abdec",
   "metadata": {
    "id": "a09abdec",
    "outputId": "2b36bed2-0392-40e2-ad86-30d78848f870"
   },
   "outputs": [],
   "source": [
    "# !pip install sklearn"
   ]
  },
  {
   "cell_type": "code",
   "execution_count": 21,
   "id": "f733c7df",
   "metadata": {
    "id": "f733c7df"
   },
   "outputs": [],
   "source": [
    "from sklearn.linear_model import LinearRegression"
   ]
  },
  {
   "cell_type": "code",
   "execution_count": 22,
   "id": "b954916a",
   "metadata": {
    "id": "b954916a"
   },
   "outputs": [],
   "source": [
    "reg = LinearRegression() # creating object for linear regression "
   ]
  },
  {
   "cell_type": "code",
   "execution_count": 23,
   "id": "2c24ceba",
   "metadata": {
    "id": "2c24ceba",
    "outputId": "67691298-348e-4db5-ca49-140700b23b39"
   },
   "outputs": [
    {
     "data": {
      "text/plain": [
       "LinearRegression()"
      ]
     },
     "execution_count": 23,
     "metadata": {},
     "output_type": "execute_result"
    }
   ],
   "source": [
    "reg.fit(x,y) # training the maodel"
   ]
  },
  {
   "cell_type": "code",
   "execution_count": 24,
   "id": "dbfd12f7",
   "metadata": {
    "id": "dbfd12f7",
    "outputId": "61ebd19f-6222-4977-cbbe-e2a0fe261c8c"
   },
   "outputs": [
    {
     "data": {
      "text/plain": [
       "array([[21.29266147]])"
      ]
     },
     "execution_count": 24,
     "metadata": {},
     "output_type": "execute_result"
    }
   ],
   "source": [
    "reg.coef_ #m"
   ]
  },
  {
   "cell_type": "code",
   "execution_count": 25,
   "id": "175d9b97",
   "metadata": {
    "id": "175d9b97",
    "outputId": "b3950e0c-1eb4-4418-d902-39d012d503f9"
   },
   "outputs": [
    {
     "data": {
      "text/plain": [
       "array([-11469.73544643])"
      ]
     },
     "execution_count": 25,
     "metadata": {},
     "output_type": "execute_result"
    }
   ],
   "source": [
    "reg.intercept_ #c"
   ]
  },
  {
   "cell_type": "code",
   "execution_count": 26,
   "id": "ea87e340",
   "metadata": {
    "id": "ea87e340",
    "outputId": "fb0ba4cf-f019-412c-e954-7e46c8130f8f"
   },
   "outputs": [
    {
     "data": {
      "text/plain": [
       "array([[73700.91044802]])"
      ]
     },
     "execution_count": 26,
     "metadata": {},
     "output_type": "execute_result"
    }
   ],
   "source": [
    "reg.predict([[4000]])"
   ]
  },
  {
   "cell_type": "code",
   "execution_count": 27,
   "id": "ed218295",
   "metadata": {
    "id": "ed218295",
    "outputId": "cf83276f-ba37-4412-dcc7-9b524923c659"
   },
   "outputs": [
    {
     "data": {
      "text/plain": [
       "array([[52408.2489744]])"
      ]
     },
     "execution_count": 27,
     "metadata": {},
     "output_type": "execute_result"
    }
   ],
   "source": [
    "reg.predict([[3000]])"
   ]
  },
  {
   "cell_type": "code",
   "execution_count": 28,
   "id": "212b82e4",
   "metadata": {
    "id": "212b82e4",
    "outputId": "9b95015c-8bfe-4a92-917f-a14ab0ef2889"
   },
   "outputs": [
    {
     "data": {
      "text/plain": [
       "308.2489743999977"
      ]
     },
     "execution_count": 28,
     "metadata": {},
     "output_type": "execute_result"
    }
   ],
   "source": [
    "52408.2489744-52100"
   ]
  },
  {
   "cell_type": "code",
   "execution_count": 29,
   "id": "a6e8ae7d",
   "metadata": {
    "id": "a6e8ae7d",
    "outputId": "0d8d1c8e-ffac-45ff-d774-e90c09eedff1"
   },
   "outputs": [
    {
     "data": {
      "text/plain": [
       "array([[52408.2489744]])"
      ]
     },
     "execution_count": 29,
     "metadata": {},
     "output_type": "execute_result"
    }
   ],
   "source": [
    "#y = m*x+c\n",
    "result = ((reg.coef_) * 3000) + (reg.intercept_)\n",
    "result"
   ]
  },
  {
   "cell_type": "code",
   "execution_count": 30,
   "id": "aaab3d4e",
   "metadata": {
    "id": "aaab3d4e",
    "outputId": "02490069-b330-4d61-d009-1e14c42b03d2"
   },
   "outputs": [
    {
     "data": {
      "text/plain": [
       "array([[31115.58750079],\n",
       "       [33244.85364815],\n",
       "       [41761.9182376 ],\n",
       "       [36438.7528692 ],\n",
       "       [52408.2489744 ],\n",
       "       [28986.32135343],\n",
       "       [20469.25676399],\n",
       "       [27921.68827975],\n",
       "       [46020.45053232],\n",
       "       [33244.85364815],\n",
       "       [34309.48672183],\n",
       "       [33244.85364815],\n",
       "       [33244.85364815],\n",
       "       [41974.84485233],\n",
       "       [36438.7528692 ],\n",
       "       [54537.51512177],\n",
       "       [26857.05520607],\n",
       "       [21533.88983767],\n",
       "       [26857.05520607],\n",
       "       [46020.45053232],\n",
       "       [33457.78026289],\n",
       "       [33244.85364815],\n",
       "       [63054.57971121],\n",
       "       [14081.4583219 ],\n",
       "       [48149.71667968],\n",
       "       [54537.51512177],\n",
       "       [47085.083606  ],\n",
       "       [26857.05520607],\n",
       "       [35374.11979552],\n",
       "       [54537.51512177],\n",
       "       [33244.85364815],\n",
       "       [33244.85364815],\n",
       "       [41761.9182376 ],\n",
       "       [36438.7528692 ],\n",
       "       [52408.2489744 ],\n",
       "       [28986.32135343],\n",
       "       [20469.25676399],\n",
       "       [27921.68827975],\n",
       "       [46020.45053232],\n",
       "       [33244.85364815],\n",
       "       [34309.48672183],\n",
       "       [33244.85364815],\n",
       "       [33244.85364815],\n",
       "       [41974.84485233],\n",
       "       [36438.7528692 ],\n",
       "       [54537.51512177],\n",
       "       [26857.05520607],\n",
       "       [21533.88983767],\n",
       "       [26857.05520607],\n",
       "       [46020.45053232],\n",
       "       [33457.78026289],\n",
       "       [33244.85364815],\n",
       "       [63054.57971121],\n",
       "       [14081.4583219 ],\n",
       "       [48149.71667968],\n",
       "       [54537.51512177],\n",
       "       [47085.083606  ],\n",
       "       [26857.05520607],\n",
       "       [35374.11979552],\n",
       "       [54537.51512177]])"
      ]
     },
     "execution_count": 30,
     "metadata": {},
     "output_type": "execute_result"
    }
   ],
   "source": [
    "reg.predict(x)"
   ]
  },
  {
   "cell_type": "code",
   "execution_count": 31,
   "id": "97bb73d6",
   "metadata": {
    "id": "97bb73d6"
   },
   "outputs": [],
   "source": [
    "df['predicted_rent'] = reg.predict(x)"
   ]
  },
  {
   "cell_type": "code",
   "execution_count": 32,
   "id": "64382d8a",
   "metadata": {
    "id": "64382d8a",
    "outputId": "caa8e18a-36dd-44ef-84af-13cd9f4a1815"
   },
   "outputs": [
    {
     "data": {
      "text/html": [
       "<div>\n",
       "<style scoped>\n",
       "    .dataframe tbody tr th:only-of-type {\n",
       "        vertical-align: middle;\n",
       "    }\n",
       "\n",
       "    .dataframe tbody tr th {\n",
       "        vertical-align: top;\n",
       "    }\n",
       "\n",
       "    .dataframe thead th {\n",
       "        text-align: right;\n",
       "    }\n",
       "</style>\n",
       "<table border=\"1\" class=\"dataframe\">\n",
       "  <thead>\n",
       "    <tr style=\"text-align: right;\">\n",
       "      <th></th>\n",
       "      <th>area</th>\n",
       "      <th>rent</th>\n",
       "      <th>predicted_rent</th>\n",
       "    </tr>\n",
       "  </thead>\n",
       "  <tbody>\n",
       "    <tr>\n",
       "      <th>0</th>\n",
       "      <td>2000</td>\n",
       "      <td>31500</td>\n",
       "      <td>31115.587501</td>\n",
       "    </tr>\n",
       "    <tr>\n",
       "      <th>1</th>\n",
       "      <td>2100</td>\n",
       "      <td>35000</td>\n",
       "      <td>33244.853648</td>\n",
       "    </tr>\n",
       "    <tr>\n",
       "      <th>2</th>\n",
       "      <td>2500</td>\n",
       "      <td>41050</td>\n",
       "      <td>41761.918238</td>\n",
       "    </tr>\n",
       "    <tr>\n",
       "      <th>3</th>\n",
       "      <td>2250</td>\n",
       "      <td>36100</td>\n",
       "      <td>36438.752869</td>\n",
       "    </tr>\n",
       "    <tr>\n",
       "      <th>4</th>\n",
       "      <td>3000</td>\n",
       "      <td>52100</td>\n",
       "      <td>52408.248974</td>\n",
       "    </tr>\n",
       "  </tbody>\n",
       "</table>\n",
       "</div>"
      ],
      "text/plain": [
       "   area   rent  predicted_rent\n",
       "0  2000  31500    31115.587501\n",
       "1  2100  35000    33244.853648\n",
       "2  2500  41050    41761.918238\n",
       "3  2250  36100    36438.752869\n",
       "4  3000  52100    52408.248974"
      ]
     },
     "execution_count": 32,
     "metadata": {},
     "output_type": "execute_result"
    }
   ],
   "source": [
    "df.head()"
   ]
  },
  {
   "cell_type": "code",
   "execution_count": 33,
   "id": "cda62238",
   "metadata": {
    "id": "cda62238",
    "outputId": "6728f3df-3225-4980-92de-e078628b7838"
   },
   "outputs": [
    {
     "data": {
      "text/plain": [
       "array([[105639.90265843]])"
      ]
     },
     "execution_count": 33,
     "metadata": {},
     "output_type": "execute_result"
    }
   ],
   "source": [
    "reg.predict([[5500]])"
   ]
  },
  {
   "cell_type": "code",
   "execution_count": 34,
   "id": "a8351489",
   "metadata": {
    "id": "a8351489",
    "outputId": "919baf13-7532-4f87-9b6d-cf0befcb2cda"
   },
   "outputs": [
    {
     "data": {
      "text/plain": [
       "[<matplotlib.lines.Line2D at 0x24b9adc0220>]"
      ]
     },
     "execution_count": 34,
     "metadata": {},
     "output_type": "execute_result"
    },
    {
     "data": {
      "image/png": "[encoded data removed]",
      "text/plain": [
       "<Figure size 640x480 with 1 Axes>"
      ]
     },
     "metadata": {},
     "output_type": "display_data"
    }
   ],
   "source": [
    "plt.plot(df.area, reg.predict(x))"
   ]
  },
  {
   "cell_type": "code",
   "execution_count": 35,
   "id": "79ce0516",
   "metadata": {
    "id": "79ce0516",
    "outputId": "f3cb851f-c1c4-4d2e-a188-8983235993ce"
   },
   "outputs": [
    {
     "data": {
      "image/png": "[encoded data removed]",
      "text/plain": [
       "<Figure size 640x480 with 1 Axes>"
      ]
     },
     "metadata": {},
     "output_type": "display_data"
    }
   ],
   "source": [
    "plt.plot(df.area, reg.predict(df[['area']]))\n",
    "# x axis = area\n",
    "# y axis = predicted rent\n",
    "\n",
    "plt.scatter(df.area, df.rent, color='black')\n",
    "plt.xlabel('Area in square feet')\n",
    "plt.ylabel('Rent in Bangladeshi Taka')\n",
    "plt.title('Area - Rent Plot')\n",
    "plt.savefig('img1.png')"
   ]
  },
  {
   "cell_type": "code",
   "execution_count": 36,
   "id": "c1e01554",
   "metadata": {
    "id": "c1e01554",
    "outputId": "a0d1ae52-58d4-4c43-801a-d005fe7b946d"
   },
   "outputs": [
    {
     "data": {
      "image/png": "[encoded data removed]",
      "text/plain": [
       "<Figure size 640x480 with 1 Axes>"
      ]
     },
     "metadata": {},
     "output_type": "display_data"
    }
   ],
   "source": [
    "plt.plot(df.area.squeeze(), reg.predict(df[['area']]))\n",
    "# x axis = area\n",
    "# y axis = predicted rent\n",
    "\n",
    "plt.scatter(df.area, df.rent, color='black')\n",
    "plt.xlabel('Area in square feet')\n",
    "plt.ylabel('Rent in Bangladeshi Taka')\n",
    "plt.title('Area - Rent Plot')\n",
    "plt.savefig('img1.png')"
   ]
  },
  {
   "cell_type": "code",
   "execution_count": 37,
   "id": "4cf4a5ad",
   "metadata": {
    "id": "4cf4a5ad",
    "outputId": "a5c313ee-58ef-4e66-ab3a-0639ec256525"
   },
   "outputs": [
    {
     "data": {
      "image/png": "[encoded data removed]",
      "text/plain": [
       "<Figure size 640x480 with 1 Axes>"
      ]
     },
     "metadata": {},
     "output_type": "display_data"
    }
   ],
   "source": [
    "plt.plot(df.area.squeeze(), reg.predict(df[['area']]))\n",
    "# x axis = area\n",
    "# y axis = predicted rent\n",
    "\n",
    "plt.scatter(df.area, df.rent, color='black')\n",
    "plt.xlabel('Area in square feet')\n",
    "plt.ylabel('Rent in Bangladeshi Taka')\n",
    "plt.title('Area - Rent Plot')\n",
    "plt.savefig('img1.png')"
   ]
  },
  {
   "cell_type": "code",
   "execution_count": 38,
   "id": "5bfa352b",
   "metadata": {
    "id": "5bfa352b",
    "outputId": "1cdf527d-8711-43e9-f95f-13e6cb65f48d"
   },
   "outputs": [
    {
     "data": {
      "text/plain": [
       "0.950249380357677"
      ]
     },
     "execution_count": 38,
     "metadata": {},
     "output_type": "execute_result"
    }
   ],
   "source": [
    "reg.score(x,y) # training sccuracy"
   ]
  },
  {
   "cell_type": "code",
   "execution_count": 39,
   "id": "e9b3fc1d",
   "metadata": {
    "id": "e9b3fc1d"
   },
   "outputs": [],
   "source": [
    "from sklearn.metrics import mean_squared_error, mean_absolute_error"
   ]
  },
  {
   "cell_type": "code",
   "execution_count": 40,
   "id": "6f61c2a3",
   "metadata": {
    "id": "6f61c2a3",
    "outputId": "9c970613-fb42-4f8d-b096-e5ef5422bdc1"
   },
   "outputs": [
    {
     "data": {
      "text/plain": [
       "6778077.204095561"
      ]
     },
     "execution_count": 40,
     "metadata": {},
     "output_type": "execute_result"
    }
   ],
   "source": [
    "# actual - predicted\n",
    "mean_squared_error(df[['rent']], reg.predict(df[['area']]))"
   ]
  },
  {
   "cell_type": "code",
   "execution_count": 41,
   "id": "246b503b",
   "metadata": {
    "id": "246b503b",
    "outputId": "f6d75a93-df5f-49b8-f213-06573cbb01b5"
   },
   "outputs": [
    {
     "data": {
      "text/plain": [
       "6778077.204095561"
      ]
     },
     "execution_count": 41,
     "metadata": {},
     "output_type": "execute_result"
    }
   ],
   "source": [
    "mean_squared_error(y, df.predicted_rent)"
   ]
  },
  {
   "cell_type": "code",
   "execution_count": 42,
   "id": "1eb66ad8",
   "metadata": {
    "id": "1eb66ad8",
    "outputId": "5b221b82-c251-48fb-d592-13bc20d72140"
   },
   "outputs": [
    {
     "data": {
      "text/plain": [
       "2009.8695093576282"
      ]
     },
     "execution_count": 42,
     "metadata": {},
     "output_type": "execute_result"
    }
   ],
   "source": [
    "mean_absolute_error(y, df.predicted_rent)"
   ]
  },
  {
   "cell_type": "code",
   "execution_count": 43,
   "id": "63440ca0",
   "metadata": {
    "id": "63440ca0"
   },
   "outputs": [],
   "source": [
    "import warnings as wr\n",
    "wr.filterwarnings('ignore')"
   ]
  },
  {
   "cell_type": "code",
   "execution_count": 44,
   "id": "bc057676",
   "metadata": {
    "id": "bc057676",
    "outputId": "002f0ec0-6d35-4df5-b18e-736eb2f9b52e"
   },
   "outputs": [
    {
     "data": {
      "text/plain": [
       "array([[105639.90265843]])"
      ]
     },
     "execution_count": 44,
     "metadata": {},
     "output_type": "execute_result"
    }
   ],
   "source": [
    "reg.predict([[5500]])"
   ]
  },
  {
   "cell_type": "code",
   "execution_count": null,
   "id": "57e1ec79",
   "metadata": {
    "id": "57e1ec79"
   },
   "outputs": [],
   "source": []
  }
 ],
 "metadata": {
  "colab": {
   "provenance": []
  },
  "kernelspec": {
   "display_name": "Python 3 (ipykernel)",
   "language": "python",
   "name": "python3"
  },
  "language_info": {
   "codemirror_mode": {
    "name": "ipython",
    "version": 3
   },
   "file_extension": ".py",
   "mimetype": "text/x-python",
   "name": "python",
   "nbconvert_exporter": "python",
   "pygments_lexer": "ipython3",
   "version": "3.9.13"
  }
 },
 "nbformat": 4,
 "nbformat_minor": 5
}
