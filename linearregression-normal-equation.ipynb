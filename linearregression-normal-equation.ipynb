{
 "cells": [
  {
   "cell_type": "markdown",
   "id": "62c566b7",
   "metadata": {},
   "source": [
    "## Plotting the Data"
   ]
  },
  {
   "cell_type": "code",
   "execution_count": 1,
   "id": "a453bcc4",
   "metadata": {
    "execution": {
     "iopub.execute_input": "2022-12-13T08:51:21.164354Z",
     "iopub.status.busy": "2022-12-13T08:51:21.163571Z",
     "iopub.status.idle": "2022-12-13T08:51:21.177955Z",
     "shell.execute_reply": "2022-12-13T08:51:21.176472Z",
     "shell.execute_reply.started": "2022-12-13T08:51:21.164231Z"
    }
   },
   "outputs": [],
   "source": [
    "import numpy as np\n",
    "import pandas as pd\n",
    "import matplotlib.pyplot as plt\n",
    "\n",
    "import warnings as wr\n",
    "wr.filterwarnings('ignore')"
   ]
  },
  {
   "cell_type": "markdown",
   "id": "f87c5925",
   "metadata": {},
   "source": [
    "# read data"
   ]
  },
  {
   "cell_type": "code",
   "execution_count": 2,
   "id": "5abd439d",
   "metadata": {
    "execution": {
     "iopub.execute_input": "2022-12-13T08:51:21.181471Z",
     "iopub.status.busy": "2022-12-13T08:51:21.180882Z",
     "iopub.status.idle": "2022-12-13T08:51:21.213485Z",
     "shell.execute_reply": "2022-12-13T08:51:21.212240Z",
     "shell.execute_reply.started": "2022-12-13T08:51:21.181421Z"
    }
   },
   "outputs": [
    {
     "data": {
      "text/html": [
       "<div>\n",
       "<style scoped>\n",
       "    .dataframe tbody tr th:only-of-type {\n",
       "        vertical-align: middle;\n",
       "    }\n",
       "\n",
       "    .dataframe tbody tr th {\n",
       "        vertical-align: top;\n",
       "    }\n",
       "\n",
       "    .dataframe thead th {\n",
       "        text-align: right;\n",
       "    }\n",
       "</style>\n",
       "<table border=\"1\" class=\"dataframe\">\n",
       "  <thead>\n",
       "    <tr style=\"text-align: right;\">\n",
       "      <th></th>\n",
       "      <th>Population</th>\n",
       "      <th>Profit</th>\n",
       "    </tr>\n",
       "  </thead>\n",
       "  <tbody>\n",
       "    <tr>\n",
       "      <th>0</th>\n",
       "      <td>6.1101</td>\n",
       "      <td>17.5920</td>\n",
       "    </tr>\n",
       "    <tr>\n",
       "      <th>1</th>\n",
       "      <td>5.5277</td>\n",
       "      <td>9.1302</td>\n",
       "    </tr>\n",
       "    <tr>\n",
       "      <th>2</th>\n",
       "      <td>8.5186</td>\n",
       "      <td>13.6620</td>\n",
       "    </tr>\n",
       "    <tr>\n",
       "      <th>3</th>\n",
       "      <td>7.0032</td>\n",
       "      <td>11.8540</td>\n",
       "    </tr>\n",
       "    <tr>\n",
       "      <th>4</th>\n",
       "      <td>5.8598</td>\n",
       "      <td>6.8233</td>\n",
       "    </tr>\n",
       "  </tbody>\n",
       "</table>\n",
       "</div>"
      ],
      "text/plain": [
       "   Population   Profit\n",
       "0      6.1101  17.5920\n",
       "1      5.5277   9.1302\n",
       "2      8.5186  13.6620\n",
       "3      7.0032  11.8540\n",
       "4      5.8598   6.8233"
      ]
     },
     "execution_count": 2,
     "metadata": {},
     "output_type": "execute_result"
    }
   ],
   "source": [
    "# path  = 'ex1data1.txt'\n",
    "# data = pd.read_csv(path, header=None, names=['Population', 'Profit'])\n",
    "# data.head()\n",
    "\n",
    "# data = pd.read_csv('../input/population-profit/Population_Profit.txt', header=None, names=['Population','Profit'])\n",
    "# data.head()\n",
    "\n",
    "data =pd.read_csv('Datasets/Population_Profit.txt', header=None, names=['Population', 'Profit'])\n",
    "data.head()"
   ]
  },
  {
   "cell_type": "code",
   "execution_count": 3,
   "id": "66b29316",
   "metadata": {
    "execution": {
     "iopub.execute_input": "2022-12-13T08:51:21.216114Z",
     "iopub.status.busy": "2022-12-13T08:51:21.215614Z",
     "iopub.status.idle": "2022-12-13T08:51:21.461148Z",
     "shell.execute_reply": "2022-12-13T08:51:21.459894Z",
     "shell.execute_reply.started": "2022-12-13T08:51:21.216067Z"
    }
   },
   "outputs": [
    {
     "data": {
      "text/plain": [
       "<function matplotlib.pyplot.show(close=None, block=None)>"
      ]
     },
     "execution_count": 3,
     "metadata": {},
     "output_type": "execute_result"
    },
    {
     "data": {
      "image/png": "[encoded data removed]",
      "text/plain": [
       "<Figure size 1200x800 with 1 Axes>"
      ]
     },
     "metadata": {},
     "output_type": "display_data"
    }
   ],
   "source": [
    "# visualizing the data\n",
    "data.plot(kind='scatter', x='Population', y='Profit', figsize=(12, 8))\n",
    "plt.show"
   ]
  },
  {
   "cell_type": "markdown",
   "id": "59a20ab9",
   "metadata": {},
   "source": [
    "## Cost Function\n",
    "\n"
   ]
  },
  {
   "cell_type": "code",
   "execution_count": 4,
   "id": "c0f933b1",
   "metadata": {
    "execution": {
     "iopub.execute_input": "2022-12-13T08:51:21.464739Z",
     "iopub.status.busy": "2022-12-13T08:51:21.464230Z",
     "iopub.status.idle": "2022-12-13T08:51:21.480872Z",
     "shell.execute_reply": "2022-12-13T08:51:21.479382Z",
     "shell.execute_reply.started": "2022-12-13T08:51:21.464693Z"
    }
   },
   "outputs": [
    {
     "data": {
      "text/html": [
       "<div>\n",
       "<style scoped>\n",
       "    .dataframe tbody tr th:only-of-type {\n",
       "        vertical-align: middle;\n",
       "    }\n",
       "\n",
       "    .dataframe tbody tr th {\n",
       "        vertical-align: top;\n",
       "    }\n",
       "\n",
       "    .dataframe thead th {\n",
       "        text-align: right;\n",
       "    }\n",
       "</style>\n",
       "<table border=\"1\" class=\"dataframe\">\n",
       "  <thead>\n",
       "    <tr style=\"text-align: right;\">\n",
       "      <th></th>\n",
       "      <th>Ones</th>\n",
       "      <th>Population</th>\n",
       "      <th>Profit</th>\n",
       "    </tr>\n",
       "  </thead>\n",
       "  <tbody>\n",
       "    <tr>\n",
       "      <th>0</th>\n",
       "      <td>1</td>\n",
       "      <td>6.1101</td>\n",
       "      <td>17.5920</td>\n",
       "    </tr>\n",
       "    <tr>\n",
       "      <th>1</th>\n",
       "      <td>1</td>\n",
       "      <td>5.5277</td>\n",
       "      <td>9.1302</td>\n",
       "    </tr>\n",
       "    <tr>\n",
       "      <th>2</th>\n",
       "      <td>1</td>\n",
       "      <td>8.5186</td>\n",
       "      <td>13.6620</td>\n",
       "    </tr>\n",
       "    <tr>\n",
       "      <th>3</th>\n",
       "      <td>1</td>\n",
       "      <td>7.0032</td>\n",
       "      <td>11.8540</td>\n",
       "    </tr>\n",
       "    <tr>\n",
       "      <th>4</th>\n",
       "      <td>1</td>\n",
       "      <td>5.8598</td>\n",
       "      <td>6.8233</td>\n",
       "    </tr>\n",
       "  </tbody>\n",
       "</table>\n",
       "</div>"
      ],
      "text/plain": [
       "   Ones  Population   Profit\n",
       "0     1      6.1101  17.5920\n",
       "1     1      5.5277   9.1302\n",
       "2     1      8.5186  13.6620\n",
       "3     1      7.0032  11.8540\n",
       "4     1      5.8598   6.8233"
      ]
     },
     "execution_count": 4,
     "metadata": {},
     "output_type": "execute_result"
    }
   ],
   "source": [
    "# insert a column\n",
    "data.insert(0,'Ones',1)\n",
    "data.head()"
   ]
  },
  {
   "cell_type": "code",
   "execution_count": 5,
   "id": "af2b8dc1",
   "metadata": {
    "execution": {
     "iopub.execute_input": "2022-12-13T08:51:21.482776Z",
     "iopub.status.busy": "2022-12-13T08:51:21.482408Z",
     "iopub.status.idle": "2022-12-13T08:51:21.492723Z",
     "shell.execute_reply": "2022-12-13T08:51:21.491140Z",
     "shell.execute_reply.started": "2022-12-13T08:51:21.482743Z"
    }
   },
   "outputs": [],
   "source": [
    "# split data to X and Y\n",
    "cols = data.shape[1]\n",
    "X = data.iloc[:, 0:cols-1]\n",
    "Y = data.iloc[:, cols-1:cols]"
   ]
  },
  {
   "cell_type": "code",
   "execution_count": 6,
   "id": "a1280272",
   "metadata": {
    "execution": {
     "iopub.execute_input": "2022-12-13T08:51:21.494592Z",
     "iopub.status.busy": "2022-12-13T08:51:21.494199Z",
     "iopub.status.idle": "2022-12-13T08:51:21.513125Z",
     "shell.execute_reply": "2022-12-13T08:51:21.511588Z",
     "shell.execute_reply.started": "2022-12-13T08:51:21.494550Z"
    }
   },
   "outputs": [
    {
     "data": {
      "text/html": [
       "<div>\n",
       "<style scoped>\n",
       "    .dataframe tbody tr th:only-of-type {\n",
       "        vertical-align: middle;\n",
       "    }\n",
       "\n",
       "    .dataframe tbody tr th {\n",
       "        vertical-align: top;\n",
       "    }\n",
       "\n",
       "    .dataframe thead th {\n",
       "        text-align: right;\n",
       "    }\n",
       "</style>\n",
       "<table border=\"1\" class=\"dataframe\">\n",
       "  <thead>\n",
       "    <tr style=\"text-align: right;\">\n",
       "      <th></th>\n",
       "      <th>Ones</th>\n",
       "      <th>Population</th>\n",
       "    </tr>\n",
       "  </thead>\n",
       "  <tbody>\n",
       "    <tr>\n",
       "      <th>0</th>\n",
       "      <td>1</td>\n",
       "      <td>6.1101</td>\n",
       "    </tr>\n",
       "    <tr>\n",
       "      <th>1</th>\n",
       "      <td>1</td>\n",
       "      <td>5.5277</td>\n",
       "    </tr>\n",
       "    <tr>\n",
       "      <th>2</th>\n",
       "      <td>1</td>\n",
       "      <td>8.5186</td>\n",
       "    </tr>\n",
       "    <tr>\n",
       "      <th>3</th>\n",
       "      <td>1</td>\n",
       "      <td>7.0032</td>\n",
       "    </tr>\n",
       "    <tr>\n",
       "      <th>4</th>\n",
       "      <td>1</td>\n",
       "      <td>5.8598</td>\n",
       "    </tr>\n",
       "  </tbody>\n",
       "</table>\n",
       "</div>"
      ],
      "text/plain": [
       "   Ones  Population\n",
       "0     1      6.1101\n",
       "1     1      5.5277\n",
       "2     1      8.5186\n",
       "3     1      7.0032\n",
       "4     1      5.8598"
      ]
     },
     "execution_count": 6,
     "metadata": {},
     "output_type": "execute_result"
    }
   ],
   "source": [
    "X.head()"
   ]
  },
  {
   "cell_type": "code",
   "execution_count": 7,
   "id": "c96f0c29",
   "metadata": {
    "execution": {
     "iopub.execute_input": "2022-12-13T08:51:21.516162Z",
     "iopub.status.busy": "2022-12-13T08:51:21.515752Z",
     "iopub.status.idle": "2022-12-13T08:51:21.531203Z",
     "shell.execute_reply": "2022-12-13T08:51:21.530022Z",
     "shell.execute_reply.started": "2022-12-13T08:51:21.516129Z"
    }
   },
   "outputs": [
    {
     "data": {
      "text/html": [
       "<div>\n",
       "<style scoped>\n",
       "    .dataframe tbody tr th:only-of-type {\n",
       "        vertical-align: middle;\n",
       "    }\n",
       "\n",
       "    .dataframe tbody tr th {\n",
       "        vertical-align: top;\n",
       "    }\n",
       "\n",
       "    .dataframe thead th {\n",
       "        text-align: right;\n",
       "    }\n",
       "</style>\n",
       "<table border=\"1\" class=\"dataframe\">\n",
       "  <thead>\n",
       "    <tr style=\"text-align: right;\">\n",
       "      <th></th>\n",
       "      <th>Profit</th>\n",
       "    </tr>\n",
       "  </thead>\n",
       "  <tbody>\n",
       "    <tr>\n",
       "      <th>0</th>\n",
       "      <td>17.5920</td>\n",
       "    </tr>\n",
       "    <tr>\n",
       "      <th>1</th>\n",
       "      <td>9.1302</td>\n",
       "    </tr>\n",
       "    <tr>\n",
       "      <th>2</th>\n",
       "      <td>13.6620</td>\n",
       "    </tr>\n",
       "    <tr>\n",
       "      <th>3</th>\n",
       "      <td>11.8540</td>\n",
       "    </tr>\n",
       "    <tr>\n",
       "      <th>4</th>\n",
       "      <td>6.8233</td>\n",
       "    </tr>\n",
       "  </tbody>\n",
       "</table>\n",
       "</div>"
      ],
      "text/plain": [
       "    Profit\n",
       "0  17.5920\n",
       "1   9.1302\n",
       "2  13.6620\n",
       "3  11.8540\n",
       "4   6.8233"
      ]
     },
     "execution_count": 7,
     "metadata": {},
     "output_type": "execute_result"
    }
   ],
   "source": [
    "Y.head()"
   ]
  },
  {
   "cell_type": "code",
   "execution_count": 8,
   "id": "4519616a",
   "metadata": {
    "execution": {
     "iopub.execute_input": "2022-12-13T08:51:21.533334Z",
     "iopub.status.busy": "2022-12-13T08:51:21.532918Z",
     "iopub.status.idle": "2022-12-13T08:51:21.545932Z",
     "shell.execute_reply": "2022-12-13T08:51:21.544741Z",
     "shell.execute_reply.started": "2022-12-13T08:51:21.533283Z"
    }
   },
   "outputs": [
    {
     "data": {
      "text/plain": [
       "((98, 2), (98, 1), (1, 2))"
      ]
     },
     "execution_count": 8,
     "metadata": {},
     "output_type": "execute_result"
    }
   ],
   "source": [
    "# convert X and Y into matrix\n",
    "X = np.matrix(X.values)\n",
    "Y = np.matrix(Y.values)\n",
    "\n",
    "theta = np.matrix(np.array([0,0]))\n",
    "\n",
    "X.shape, Y.shape, theta.shape\n"
   ]
  },
  {
   "cell_type": "markdown",
   "id": "71d178ec",
   "metadata": {},
   "source": [
    "formula of cost function\n",
    "![](img/cost.png)"
   ]
  },
  {
   "cell_type": "code",
   "execution_count": 9,
   "id": "a57ff479",
   "metadata": {
    "execution": {
     "iopub.execute_input": "2022-12-13T08:51:21.548037Z",
     "iopub.status.busy": "2022-12-13T08:51:21.547547Z",
     "iopub.status.idle": "2022-12-13T08:51:21.555981Z",
     "shell.execute_reply": "2022-12-13T08:51:21.554591Z",
     "shell.execute_reply.started": "2022-12-13T08:51:21.547992Z"
    }
   },
   "outputs": [],
   "source": [
    "# cost function \n",
    "def computeCost(X, Y, theta):\n",
    "    inner = np.power((X * theta.T)-Y, 2)\n",
    "    return np.sum(inner) / (2 * len(X))"
   ]
  },
  {
   "cell_type": "code",
   "execution_count": 10,
   "id": "78e365a5",
   "metadata": {
    "execution": {
     "iopub.execute_input": "2022-12-13T08:51:21.559196Z",
     "iopub.status.busy": "2022-12-13T08:51:21.558813Z",
     "iopub.status.idle": "2022-12-13T08:51:21.570677Z",
     "shell.execute_reply": "2022-12-13T08:51:21.569774Z",
     "shell.execute_reply.started": "2022-12-13T08:51:21.559163Z"
    }
   },
   "outputs": [
    {
     "data": {
      "text/plain": [
       "31.81715114528776"
      ]
     },
     "execution_count": 10,
     "metadata": {},
     "output_type": "execute_result"
    }
   ],
   "source": [
    "computeCost(X, Y, theta)"
   ]
  },
  {
   "cell_type": "markdown",
   "id": "f5a37be9",
   "metadata": {},
   "source": [
    "## regularization\n",
    "![](img/regularization.png)"
   ]
  },
  {
   "cell_type": "code",
   "execution_count": 11,
   "id": "aca1dcbd",
   "metadata": {
    "execution": {
     "iopub.execute_input": "2022-12-13T08:51:21.572016Z",
     "iopub.status.busy": "2022-12-13T08:51:21.571674Z",
     "iopub.status.idle": "2022-12-13T08:51:21.581633Z",
     "shell.execute_reply": "2022-12-13T08:51:21.580765Z",
     "shell.execute_reply.started": "2022-12-13T08:51:21.571986Z"
    }
   },
   "outputs": [],
   "source": [
    "def normalEqn(X, Y):\n",
    "    theta = np.linalg.inv(X.T@X)@X.T@Y\n",
    "    return theta"
   ]
  },
  {
   "cell_type": "code",
   "execution_count": 12,
   "id": "9af41b7b",
   "metadata": {
    "execution": {
     "iopub.execute_input": "2022-12-13T08:51:21.583864Z",
     "iopub.status.busy": "2022-12-13T08:51:21.583061Z",
     "iopub.status.idle": "2022-12-13T08:51:21.601608Z",
     "shell.execute_reply": "2022-12-13T08:51:21.600461Z",
     "shell.execute_reply.started": "2022-12-13T08:51:21.583811Z"
    }
   },
   "outputs": [
    {
     "data": {
      "text/plain": [
       "matrix([[-3.91307391],\n",
       "        [ 1.1936497 ]])"
      ]
     },
     "execution_count": 12,
     "metadata": {},
     "output_type": "execute_result"
    }
   ],
   "source": [
    "theta = normalEqn(X,Y)\n",
    "theta"
   ]
  },
  {
   "cell_type": "code",
   "execution_count": 13,
   "id": "964129b2",
   "metadata": {
    "execution": {
     "iopub.execute_input": "2022-12-13T08:51:21.603945Z",
     "iopub.status.busy": "2022-12-13T08:51:21.603160Z",
     "iopub.status.idle": "2022-12-13T08:51:21.614945Z",
     "shell.execute_reply": "2022-12-13T08:51:21.614026Z",
     "shell.execute_reply.started": "2022-12-13T08:51:21.603896Z"
    }
   },
   "outputs": [
    {
     "data": {
      "text/plain": [
       "4.438588006718629"
      ]
     },
     "execution_count": 13,
     "metadata": {},
     "output_type": "execute_result"
    }
   ],
   "source": [
    "theta = theta.reshape(1,-1)\n",
    "computeCost(X, Y, theta)"
   ]
  },
  {
   "cell_type": "code",
   "execution_count": 14,
   "id": "627f7de5",
   "metadata": {
    "execution": {
     "iopub.execute_input": "2022-12-13T08:51:21.617183Z",
     "iopub.status.busy": "2022-12-13T08:51:21.616418Z",
     "iopub.status.idle": "2022-12-13T08:51:21.833026Z",
     "shell.execute_reply": "2022-12-13T08:51:21.831596Z",
     "shell.execute_reply.started": "2022-12-13T08:51:21.617138Z"
    }
   },
   "outputs": [
    {
     "data": {
      "image/png": "[encoded data removed]",
      "text/plain": [
       "<Figure size 1200x800 with 1 Axes>"
      ]
     },
     "metadata": {},
     "output_type": "display_data"
    }
   ],
   "source": [
    "# fit image\n",
    "x = np.linspace(data.Population.min(), data.Population.max(), 100)\n",
    "f = theta[0, 0] +  theta[0, 1] * x\n",
    "\n",
    "plt.figure(figsize = (12, 8))\n",
    "plt.xlabel(\"Population\")\n",
    "plt.ylabel(\"Profit\")\n",
    "l1 = plt.plot(x, f, label=\"Prediction\", color='red')\n",
    "l2 = plt.scatter(data.Population, data.Profit, label=\"Training Data\")\n",
    "plt.legend(loc=\"best\")\n",
    "plt.title(\"Predicted Profit vs Population Size\")\n",
    "plt.show()"
   ]
  },
  {
   "cell_type": "code",
   "execution_count": null,
   "id": "5c6aaf3e",
   "metadata": {},
   "outputs": [],
   "source": []
  },
  {
   "cell_type": "code",
   "execution_count": null,
   "id": "82d3ff1d",
   "metadata": {},
   "outputs": [],
   "source": []
  }
 ],
 "metadata": {
  "kernelspec": {
   "display_name": "Python 3 (ipykernel)",
   "language": "python",
   "name": "python3"
  },
  "language_info": {
   "codemirror_mode": {
    "name": "ipython",
    "version": 3
   },
   "file_extension": ".py",
   "mimetype": "text/x-python",
   "name": "python",
   "nbconvert_exporter": "python",
   "pygments_lexer": "ipython3",
   "version": "3.9.13"
  }
 },
 "nbformat": 4,
 "nbformat_minor": 5
}
